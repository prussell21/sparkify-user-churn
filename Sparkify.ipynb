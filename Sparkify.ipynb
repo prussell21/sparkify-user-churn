{
 "cells": [
  {
   "cell_type": "markdown",
   "metadata": {},
   "source": [
    "# Sparkify Project Workspace\n",
    "This workspace contains a tiny subset (128MB) of the full dataset available (12GB). Feel free to use this workspace to build your project, or to explore a smaller subset with Spark before deploying your cluster on the cloud. Instructions for setting up your Spark cluster is included in the last lesson of the Extracurricular Spark Course content.\n",
    "\n",
    "You can follow the steps below to guide your data analysis and model building portion of this project."
   ]
  },
  {
   "cell_type": "code",
   "execution_count": 1,
   "metadata": {},
   "outputs": [],
   "source": [
    "# import libraries\n",
    "import pyspark\n",
    "from pyspark import SparkContext\n",
    "from pyspark.sql import SparkSession, Row, Window\n",
    "from pyspark.sql.types import *\n",
    "from pyspark.sql.functions import udf, desc, asc, struct\n",
    "from pyspark.sql.functions import sum as Fsum\n",
    "from pyspark.sql.functions import sum as _sum\n",
    "from pyspark.sql.functions import max as _max\n",
    "from pyspark.ml.tuning import ParamGridBuilder, CrossValidator\n",
    "from pyspark.mllib.util import MLUtils\n",
    "from pyspark.mllib.evaluation import BinaryClassificationMetrics, MulticlassMetrics\n",
    "from pyspark.ml.evaluation import BinaryClassificationEvaluator, MulticlassClassificationEvaluator\n",
    "from pyspark.ml.classification import RandomForestClassifier, GBTClassifier, LogisticRegression\n",
    "from pyspark.ml.feature import VectorAssembler\n",
    "\n",
    "import pyspark.sql.functions as func\n",
    "\n",
    "import datetime\n",
    "\n",
    "import numpy as np\n",
    "import pandas as pd\n",
    "\n",
    "%matplotlib inline\n",
    "import matplotlib.pyplot as plt\n",
    "import seaborn as sns"
   ]
  },
  {
   "cell_type": "code",
   "execution_count": 2,
   "metadata": {},
   "outputs": [],
   "source": [
    "# create a Spark session\n",
    "spark = SparkSession \\\n",
    "        .builder \\\n",
    "        .appName(\"spark app\") \\\n",
    "        .getOrCreate()"
   ]
  },
  {
   "cell_type": "markdown",
   "metadata": {},
   "source": [
    "# Load and Clean Dataset\n",
    "Clean your dataset, checking for invalid or missing data. For example, records without userids or sessionids. In this workspace, the filename is `mini_sparkify_event_data.json`."
   ]
  },
  {
   "cell_type": "code",
   "execution_count": 3,
   "metadata": {},
   "outputs": [],
   "source": [
    "#reading in dataset sample\n",
    "path = 'mini_sparkify_event_data.json'\n",
    "\n",
    "data = spark.read.json(path)"
   ]
  },
  {
   "cell_type": "code",
   "execution_count": 4,
   "metadata": {},
   "outputs": [
    {
     "name": "stdout",
     "output_type": "stream",
     "text": [
      "root\n",
      " |-- artist: string (nullable = true)\n",
      " |-- auth: string (nullable = true)\n",
      " |-- firstName: string (nullable = true)\n",
      " |-- gender: string (nullable = true)\n",
      " |-- itemInSession: long (nullable = true)\n",
      " |-- lastName: string (nullable = true)\n",
      " |-- length: double (nullable = true)\n",
      " |-- level: string (nullable = true)\n",
      " |-- location: string (nullable = true)\n",
      " |-- method: string (nullable = true)\n",
      " |-- page: string (nullable = true)\n",
      " |-- registration: long (nullable = true)\n",
      " |-- sessionId: long (nullable = true)\n",
      " |-- song: string (nullable = true)\n",
      " |-- status: long (nullable = true)\n",
      " |-- ts: long (nullable = true)\n",
      " |-- userAgent: string (nullable = true)\n",
      " |-- userId: string (nullable = true)\n",
      "\n"
     ]
    }
   ],
   "source": [
    "data.printSchema()"
   ]
  },
  {
   "cell_type": "markdown",
   "metadata": {},
   "source": [
    "# Exploratory Data Analysis\n",
    "When you're working with the full dataset, perform EDA by loading a small subset of the data and doing basic manipulations within Spark. In this workspace, you are already provided a small subset of data you can explore.\n",
    "\n",
    "### Define Churn\n",
    "\n",
    "Once you've done some preliminary analysis, create a column `Churn` to use as the label for your model. I suggest using the `Cancellation Confirmation` events to define your churn, which happen for both paid and free users. As a bonus task, you can also look into the `Downgrade` events.\n",
    "\n",
    "### Explore Data\n",
    "Once you've defined churn, perform some exploratory data analysis to observe the behavior for users who stayed vs users who churned. You can start by exploring aggregates on these two groups of users, observing how much of a specific action they experienced per a certain time unit or number of songs played."
   ]
  },
  {
   "cell_type": "code",
   "execution_count": 5,
   "metadata": {},
   "outputs": [
    {
     "name": "stdout",
     "output_type": "stream",
     "text": [
      "+-------+-----------------+\n",
      "|summary|        sessionId|\n",
      "+-------+-----------------+\n",
      "|  count|           286500|\n",
      "|   mean|1041.526554973822|\n",
      "| stddev|726.7762634630741|\n",
      "|    min|                1|\n",
      "|    max|             2474|\n",
      "+-------+-----------------+\n",
      "\n",
      "286500  total records in dataset.\n"
     ]
    }
   ],
   "source": [
    "# Statistics regarding the SessionId column and total records in the dataset\n",
    "data.describe('sessionId').show()\n",
    "print (data.count(), ' total records in dataset.')"
   ]
  },
  {
   "cell_type": "code",
   "execution_count": 6,
   "metadata": {},
   "outputs": [],
   "source": [
    "def cleaning_and_preprocessing(data):\n",
    "    '''\n",
    "    Removes missing user Id values and creates hour, day, and churn columns\n",
    "    \n",
    "    INPUT\n",
    "    data: user dataset\n",
    "    \n",
    "    OUTPUT\n",
    "    data: cleaned dataset\n",
    "    '''\n",
    "    \n",
    "    data = data.dropna(how='any', subset= ['userId', 'sessionId'])\n",
    "    data = data.filter(data['userId'] != \"\")\n",
    "    \n",
    "    #Create new hour column from timestamp\n",
    "    get_hour = udf(lambda x: datetime.datetime.fromtimestamp(x / 1000.0). hour)\n",
    "    data = data.withColumn(\"hour\", get_hour(data.ts))\n",
    "\n",
    "    #Create new day column from timestamp\n",
    "    get_day = udf(lambda x: datetime.datetime.fromtimestamp(x / 1000.0). day)\n",
    "    data = data.withColumn(\"day\", get_day(data.ts))\n",
    "    \n",
    "    #Defining Churn\n",
    "    cancellation_confirmation = udf(lambda x: 1 if x == \"Cancellation Confirmation\" else 0, IntegerType())\n",
    "\n",
    "    data = data.withColumn(\"cancelled\", cancellation_confirmation(\"page\"))\n",
    "    \n",
    "    windowval = Window.partitionBy(\"userId\").orderBy(desc(\"ts\")).rangeBetween(Window.unboundedPreceding, 0)\n",
    "    \n",
    "    data = data.withColumn(\"Churn\", Fsum(\"cancelled\").over(windowval))\n",
    "    \n",
    "    return data"
   ]
  },
  {
   "cell_type": "code",
   "execution_count": 7,
   "metadata": {},
   "outputs": [],
   "source": [
    "data = cleaning_and_preprocessing(data)"
   ]
  },
  {
   "cell_type": "code",
   "execution_count": 82,
   "metadata": {},
   "outputs": [],
   "source": [
    "def user_data_window(user_id, data=data):\n",
    "    '''\n",
    "    INPUT\n",
    "    user_id (str): user id number\n",
    "    data: dataset of all user activity\n",
    "    \n",
    "    OUTPUT\n",
    "    user activity\n",
    "    '''\n",
    "    \n",
    "    return data.select([\"userId\",\n",
    "                        \"firstname\",\n",
    "                        \"ts\", \"page\",\n",
    "                        \"level\", \"hour\",\n",
    "                        \"Churn\",\n",
    "                        \"cancelled\",\n",
    "                        \"itemInSession\",\n",
    "                        \"day\"]).where(data.userId == \"108\").sort(\"ts\").collect()\n",
    "    \n",
    "user_data_window(\"108\", data)"
   ]
  },
  {
   "cell_type": "markdown",
   "metadata": {},
   "source": [
    "### Data Exploration"
   ]
  },
  {
   "cell_type": "code",
   "execution_count": 9,
   "metadata": {},
   "outputs": [],
   "source": [
    "dataset = data\n",
    "dataset_pd = dataset.toPandas()"
   ]
  },
  {
   "cell_type": "code",
   "execution_count": 10,
   "metadata": {},
   "outputs": [
    {
     "data": {
      "text/html": [
       "<div>\n",
       "<style>\n",
       "    .dataframe thead tr:only-child th {\n",
       "        text-align: right;\n",
       "    }\n",
       "\n",
       "    .dataframe thead th {\n",
       "        text-align: left;\n",
       "    }\n",
       "\n",
       "    .dataframe tbody tr th {\n",
       "        vertical-align: top;\n",
       "    }\n",
       "</style>\n",
       "<table border=\"1\" class=\"dataframe\">\n",
       "  <thead>\n",
       "    <tr style=\"text-align: right;\">\n",
       "      <th></th>\n",
       "      <th>itemInSession</th>\n",
       "      <th>length</th>\n",
       "      <th>registration</th>\n",
       "      <th>sessionId</th>\n",
       "      <th>status</th>\n",
       "      <th>ts</th>\n",
       "      <th>cancelled</th>\n",
       "      <th>Churn</th>\n",
       "    </tr>\n",
       "  </thead>\n",
       "  <tbody>\n",
       "    <tr>\n",
       "      <th>count</th>\n",
       "      <td>278154.000000</td>\n",
       "      <td>228108.000000</td>\n",
       "      <td>2.781540e+05</td>\n",
       "      <td>278154.000000</td>\n",
       "      <td>278154.000000</td>\n",
       "      <td>2.781540e+05</td>\n",
       "      <td>278154.000000</td>\n",
       "      <td>278154.000000</td>\n",
       "    </tr>\n",
       "    <tr>\n",
       "      <th>mean</th>\n",
       "      <td>114.899182</td>\n",
       "      <td>249.117182</td>\n",
       "      <td>1.535359e+12</td>\n",
       "      <td>1042.561624</td>\n",
       "      <td>209.103216</td>\n",
       "      <td>1.540959e+12</td>\n",
       "      <td>0.000187</td>\n",
       "      <td>0.161292</td>\n",
       "    </tr>\n",
       "    <tr>\n",
       "      <th>std</th>\n",
       "      <td>129.851729</td>\n",
       "      <td>99.235179</td>\n",
       "      <td>3.291322e+09</td>\n",
       "      <td>726.501036</td>\n",
       "      <td>30.151389</td>\n",
       "      <td>1.506829e+09</td>\n",
       "      <td>0.013672</td>\n",
       "      <td>0.367801</td>\n",
       "    </tr>\n",
       "    <tr>\n",
       "      <th>min</th>\n",
       "      <td>0.000000</td>\n",
       "      <td>0.783220</td>\n",
       "      <td>1.521381e+12</td>\n",
       "      <td>1.000000</td>\n",
       "      <td>200.000000</td>\n",
       "      <td>1.538352e+12</td>\n",
       "      <td>0.000000</td>\n",
       "      <td>0.000000</td>\n",
       "    </tr>\n",
       "    <tr>\n",
       "      <th>25%</th>\n",
       "      <td>27.000000</td>\n",
       "      <td>199.888530</td>\n",
       "      <td>1.533522e+12</td>\n",
       "      <td>338.000000</td>\n",
       "      <td>200.000000</td>\n",
       "      <td>1.539699e+12</td>\n",
       "      <td>0.000000</td>\n",
       "      <td>0.000000</td>\n",
       "    </tr>\n",
       "    <tr>\n",
       "      <th>50%</th>\n",
       "      <td>70.000000</td>\n",
       "      <td>234.500770</td>\n",
       "      <td>1.536664e+12</td>\n",
       "      <td>1017.000000</td>\n",
       "      <td>200.000000</td>\n",
       "      <td>1.540934e+12</td>\n",
       "      <td>0.000000</td>\n",
       "      <td>0.000000</td>\n",
       "    </tr>\n",
       "    <tr>\n",
       "      <th>75%</th>\n",
       "      <td>157.000000</td>\n",
       "      <td>277.158730</td>\n",
       "      <td>1.537672e+12</td>\n",
       "      <td>1675.000000</td>\n",
       "      <td>200.000000</td>\n",
       "      <td>1.542268e+12</td>\n",
       "      <td>0.000000</td>\n",
       "      <td>0.000000</td>\n",
       "    </tr>\n",
       "    <tr>\n",
       "      <th>max</th>\n",
       "      <td>1321.000000</td>\n",
       "      <td>3024.665670</td>\n",
       "      <td>1.543247e+12</td>\n",
       "      <td>2474.000000</td>\n",
       "      <td>404.000000</td>\n",
       "      <td>1.543799e+12</td>\n",
       "      <td>1.000000</td>\n",
       "      <td>1.000000</td>\n",
       "    </tr>\n",
       "  </tbody>\n",
       "</table>\n",
       "</div>"
      ],
      "text/plain": [
       "       itemInSession         length  registration      sessionId  \\\n",
       "count  278154.000000  228108.000000  2.781540e+05  278154.000000   \n",
       "mean      114.899182     249.117182  1.535359e+12    1042.561624   \n",
       "std       129.851729      99.235179  3.291322e+09     726.501036   \n",
       "min         0.000000       0.783220  1.521381e+12       1.000000   \n",
       "25%        27.000000     199.888530  1.533522e+12     338.000000   \n",
       "50%        70.000000     234.500770  1.536664e+12    1017.000000   \n",
       "75%       157.000000     277.158730  1.537672e+12    1675.000000   \n",
       "max      1321.000000    3024.665670  1.543247e+12    2474.000000   \n",
       "\n",
       "              status            ts      cancelled          Churn  \n",
       "count  278154.000000  2.781540e+05  278154.000000  278154.000000  \n",
       "mean      209.103216  1.540959e+12       0.000187       0.161292  \n",
       "std        30.151389  1.506829e+09       0.013672       0.367801  \n",
       "min       200.000000  1.538352e+12       0.000000       0.000000  \n",
       "25%       200.000000  1.539699e+12       0.000000       0.000000  \n",
       "50%       200.000000  1.540934e+12       0.000000       0.000000  \n",
       "75%       200.000000  1.542268e+12       0.000000       0.000000  \n",
       "max       404.000000  1.543799e+12       1.000000       1.000000  "
      ]
     },
     "execution_count": 10,
     "metadata": {},
     "output_type": "execute_result"
    }
   ],
   "source": [
    "dataset_pd.describe()"
   ]
  },
  {
   "cell_type": "code",
   "execution_count": 11,
   "metadata": {},
   "outputs": [
    {
     "data": {
      "image/png": "[encoded data removed]",
      "text/plain": [
       "<matplotlib.figure.Figure at 0x7f6cea3f2080>"
      ]
     },
     "metadata": {
      "needs_background": "light"
     },
     "output_type": "display_data"
    }
   ],
   "source": [
    "##Aggregate of songs play by hour of day\n",
    "songs_in_hour = data.filter(data.page == \"NextSong\").groupby(data.hour).count().orderBy(data.hour.cast(\"float\"))\n",
    "\n",
    "songs_in_hour_pd = songs_in_hour.toPandas()\n",
    "songs_in_hour_pd.hour = pd.to_numeric(songs_in_hour_pd.hour)\n",
    "\n",
    "plt.scatter(songs_in_hour_pd[\"hour\"], songs_in_hour_pd[\"count\"])\n",
    "plt.xlim(-1, 24);\n",
    "plt.ylim(0, 1.2 * max(songs_in_hour_pd[\"count\"]))\n",
    "plt.xlabel(\"Hour\")\n",
    "plt.ylabel(\"Songs played\");"
   ]
  },
  {
   "cell_type": "code",
   "execution_count": 12,
   "metadata": {},
   "outputs": [],
   "source": [
    "#Average songs played before cancellation\n",
    "non_churned_user_songs = data.filter((data.Churn ==  0) & (data.page == 'NextSong')).groupby(data.userId).count()\n",
    "churned_user_songs = data.filter((data.Churn ==  1) & (data.page == 'NextSong')).groupby(data.userId).count()\n",
    "\n",
    "churned_user_songs_pd = churned_user_songs.toPandas()\n",
    "non_churned_users_pd = non_churned_user_songs.toPandas()"
   ]
  },
  {
   "cell_type": "code",
   "execution_count": 13,
   "metadata": {},
   "outputs": [
    {
     "name": "stdout",
     "output_type": "stream",
     "text": [
      "Average songs listened to by users who churned:  699.884615385\n",
      "Median songs listened to by users who churned:  452.5\n",
      "Average songs played by users who stayed:  1108.1734104\n",
      "Median songs played by users who stayed:  747.0\n",
      "Percentage of users who churned:  23.11111111111111\n"
     ]
    }
   ],
   "source": [
    "print ('Average songs listened to by users who churned: ', churned_user_songs_pd['count'].mean())\n",
    "print ('Median songs listened to by users who churned: ', churned_user_songs_pd['count'].median())\n",
    "print ('Average songs played by users who stayed: ', non_churned_users_pd['count'].mean())\n",
    "print ('Median songs played by users who stayed: ', non_churned_users_pd['count'].median())\n",
    "\n",
    "percent_who_churned = len(churned_user_songs_pd) / (len(non_churned_users_pd) + len(churned_user_songs_pd))*100\n",
    "\n",
    "print ('Percentage of users who churned: ', percent_who_churned) "
   ]
  },
  {
   "cell_type": "code",
   "execution_count": 14,
   "metadata": {},
   "outputs": [],
   "source": [
    "#Separating churn and non churned clients page count\n",
    "non_churned_page_breakdown = data.filter(data.Churn ==  0).groupby(data.page).count()\n",
    "non_churned_page_breakdown_pd = non_churned_page_breakdown.toPandas()\n",
    "\n",
    "churned_page_breakdown = data.filter(data.Churn ==  1).groupby(data.page).count()\n",
    "churned_page_breakdown_pd = churned_page_breakdown.toPandas()"
   ]
  },
  {
   "cell_type": "code",
   "execution_count": 15,
   "metadata": {},
   "outputs": [
    {
     "data": {
      "text/html": [
       "<div>\n",
       "<style>\n",
       "    .dataframe thead tr:only-child th {\n",
       "        text-align: right;\n",
       "    }\n",
       "\n",
       "    .dataframe thead th {\n",
       "        text-align: left;\n",
       "    }\n",
       "\n",
       "    .dataframe tbody tr th {\n",
       "        vertical-align: top;\n",
       "    }\n",
       "</style>\n",
       "<table border=\"1\" class=\"dataframe\">\n",
       "  <thead>\n",
       "    <tr style=\"text-align: right;\">\n",
       "      <th></th>\n",
       "      <th>page</th>\n",
       "      <th>count</th>\n",
       "    </tr>\n",
       "  </thead>\n",
       "  <tbody>\n",
       "    <tr>\n",
       "      <th>0</th>\n",
       "      <td>Submit Downgrade</td>\n",
       "      <td>54</td>\n",
       "    </tr>\n",
       "    <tr>\n",
       "      <th>1</th>\n",
       "      <td>Thumbs Down</td>\n",
       "      <td>2050</td>\n",
       "    </tr>\n",
       "    <tr>\n",
       "      <th>2</th>\n",
       "      <td>Home</td>\n",
       "      <td>8410</td>\n",
       "    </tr>\n",
       "    <tr>\n",
       "      <th>3</th>\n",
       "      <td>Downgrade</td>\n",
       "      <td>1718</td>\n",
       "    </tr>\n",
       "    <tr>\n",
       "      <th>4</th>\n",
       "      <td>Roll Advert</td>\n",
       "      <td>2966</td>\n",
       "    </tr>\n",
       "    <tr>\n",
       "      <th>5</th>\n",
       "      <td>Logout</td>\n",
       "      <td>2673</td>\n",
       "    </tr>\n",
       "    <tr>\n",
       "      <th>6</th>\n",
       "      <td>Save Settings</td>\n",
       "      <td>252</td>\n",
       "    </tr>\n",
       "    <tr>\n",
       "      <th>7</th>\n",
       "      <td>About</td>\n",
       "      <td>439</td>\n",
       "    </tr>\n",
       "    <tr>\n",
       "      <th>8</th>\n",
       "      <td>Settings</td>\n",
       "      <td>1244</td>\n",
       "    </tr>\n",
       "    <tr>\n",
       "      <th>9</th>\n",
       "      <td>Add to Playlist</td>\n",
       "      <td>5488</td>\n",
       "    </tr>\n",
       "    <tr>\n",
       "      <th>10</th>\n",
       "      <td>Add Friend</td>\n",
       "      <td>3641</td>\n",
       "    </tr>\n",
       "    <tr>\n",
       "      <th>11</th>\n",
       "      <td>NextSong</td>\n",
       "      <td>191714</td>\n",
       "    </tr>\n",
       "    <tr>\n",
       "      <th>12</th>\n",
       "      <td>Thumbs Up</td>\n",
       "      <td>10692</td>\n",
       "    </tr>\n",
       "    <tr>\n",
       "      <th>13</th>\n",
       "      <td>Help</td>\n",
       "      <td>1215</td>\n",
       "    </tr>\n",
       "    <tr>\n",
       "      <th>14</th>\n",
       "      <td>Upgrade</td>\n",
       "      <td>387</td>\n",
       "    </tr>\n",
       "    <tr>\n",
       "      <th>15</th>\n",
       "      <td>Error</td>\n",
       "      <td>220</td>\n",
       "    </tr>\n",
       "    <tr>\n",
       "      <th>16</th>\n",
       "      <td>Submit Upgrade</td>\n",
       "      <td>127</td>\n",
       "    </tr>\n",
       "  </tbody>\n",
       "</table>\n",
       "</div>"
      ],
      "text/plain": [
       "                page   count\n",
       "0   Submit Downgrade      54\n",
       "1        Thumbs Down    2050\n",
       "2               Home    8410\n",
       "3          Downgrade    1718\n",
       "4        Roll Advert    2966\n",
       "5             Logout    2673\n",
       "6      Save Settings     252\n",
       "7              About     439\n",
       "8           Settings    1244\n",
       "9    Add to Playlist    5488\n",
       "10        Add Friend    3641\n",
       "11          NextSong  191714\n",
       "12         Thumbs Up   10692\n",
       "13              Help    1215\n",
       "14           Upgrade     387\n",
       "15             Error     220\n",
       "16    Submit Upgrade     127"
      ]
     },
     "execution_count": 15,
     "metadata": {},
     "output_type": "execute_result"
    }
   ],
   "source": [
    "non_churned_page_breakdown_pd"
   ]
  },
  {
   "cell_type": "code",
   "execution_count": 16,
   "metadata": {},
   "outputs": [
    {
     "data": {
      "text/html": [
       "<div>\n",
       "<style>\n",
       "    .dataframe thead tr:only-child th {\n",
       "        text-align: right;\n",
       "    }\n",
       "\n",
       "    .dataframe thead th {\n",
       "        text-align: left;\n",
       "    }\n",
       "\n",
       "    .dataframe tbody tr th {\n",
       "        vertical-align: top;\n",
       "    }\n",
       "</style>\n",
       "<table border=\"1\" class=\"dataframe\">\n",
       "  <thead>\n",
       "    <tr style=\"text-align: right;\">\n",
       "      <th></th>\n",
       "      <th>page</th>\n",
       "      <th>count</th>\n",
       "    </tr>\n",
       "  </thead>\n",
       "  <tbody>\n",
       "    <tr>\n",
       "      <th>0</th>\n",
       "      <td>Cancel</td>\n",
       "      <td>52</td>\n",
       "    </tr>\n",
       "    <tr>\n",
       "      <th>1</th>\n",
       "      <td>Submit Downgrade</td>\n",
       "      <td>9</td>\n",
       "    </tr>\n",
       "    <tr>\n",
       "      <th>2</th>\n",
       "      <td>Thumbs Down</td>\n",
       "      <td>496</td>\n",
       "    </tr>\n",
       "    <tr>\n",
       "      <th>3</th>\n",
       "      <td>Home</td>\n",
       "      <td>1672</td>\n",
       "    </tr>\n",
       "    <tr>\n",
       "      <th>4</th>\n",
       "      <td>Downgrade</td>\n",
       "      <td>337</td>\n",
       "    </tr>\n",
       "    <tr>\n",
       "      <th>5</th>\n",
       "      <td>Roll Advert</td>\n",
       "      <td>967</td>\n",
       "    </tr>\n",
       "    <tr>\n",
       "      <th>6</th>\n",
       "      <td>Logout</td>\n",
       "      <td>553</td>\n",
       "    </tr>\n",
       "    <tr>\n",
       "      <th>7</th>\n",
       "      <td>Save Settings</td>\n",
       "      <td>58</td>\n",
       "    </tr>\n",
       "    <tr>\n",
       "      <th>8</th>\n",
       "      <td>Cancellation Confirmation</td>\n",
       "      <td>52</td>\n",
       "    </tr>\n",
       "    <tr>\n",
       "      <th>9</th>\n",
       "      <td>About</td>\n",
       "      <td>56</td>\n",
       "    </tr>\n",
       "    <tr>\n",
       "      <th>10</th>\n",
       "      <td>Settings</td>\n",
       "      <td>270</td>\n",
       "    </tr>\n",
       "    <tr>\n",
       "      <th>11</th>\n",
       "      <td>Add to Playlist</td>\n",
       "      <td>1038</td>\n",
       "    </tr>\n",
       "    <tr>\n",
       "      <th>12</th>\n",
       "      <td>Add Friend</td>\n",
       "      <td>636</td>\n",
       "    </tr>\n",
       "    <tr>\n",
       "      <th>13</th>\n",
       "      <td>NextSong</td>\n",
       "      <td>36394</td>\n",
       "    </tr>\n",
       "    <tr>\n",
       "      <th>14</th>\n",
       "      <td>Thumbs Up</td>\n",
       "      <td>1859</td>\n",
       "    </tr>\n",
       "    <tr>\n",
       "      <th>15</th>\n",
       "      <td>Help</td>\n",
       "      <td>239</td>\n",
       "    </tr>\n",
       "    <tr>\n",
       "      <th>16</th>\n",
       "      <td>Upgrade</td>\n",
       "      <td>112</td>\n",
       "    </tr>\n",
       "    <tr>\n",
       "      <th>17</th>\n",
       "      <td>Error</td>\n",
       "      <td>32</td>\n",
       "    </tr>\n",
       "    <tr>\n",
       "      <th>18</th>\n",
       "      <td>Submit Upgrade</td>\n",
       "      <td>32</td>\n",
       "    </tr>\n",
       "  </tbody>\n",
       "</table>\n",
       "</div>"
      ],
      "text/plain": [
       "                         page  count\n",
       "0                      Cancel     52\n",
       "1            Submit Downgrade      9\n",
       "2                 Thumbs Down    496\n",
       "3                        Home   1672\n",
       "4                   Downgrade    337\n",
       "5                 Roll Advert    967\n",
       "6                      Logout    553\n",
       "7               Save Settings     58\n",
       "8   Cancellation Confirmation     52\n",
       "9                       About     56\n",
       "10                   Settings    270\n",
       "11            Add to Playlist   1038\n",
       "12                 Add Friend    636\n",
       "13                   NextSong  36394\n",
       "14                  Thumbs Up   1859\n",
       "15                       Help    239\n",
       "16                    Upgrade    112\n",
       "17                      Error     32\n",
       "18             Submit Upgrade     32"
      ]
     },
     "execution_count": 16,
     "metadata": {},
     "output_type": "execute_result"
    }
   ],
   "source": [
    "churned_page_breakdown_pd"
   ]
  },
  {
   "cell_type": "code",
   "execution_count": null,
   "metadata": {},
   "outputs": [],
   "source": []
  },
  {
   "cell_type": "code",
   "execution_count": null,
   "metadata": {},
   "outputs": [],
   "source": []
  },
  {
   "cell_type": "code",
   "execution_count": 17,
   "metadata": {},
   "outputs": [
    {
     "name": "stdout",
     "output_type": "stream",
     "text": [
      "Songs listened to per advertisement for churned users:  37.6359875905\n",
      "Songs listened to per advertisement for non churned users:  64.6372218476\n"
     ]
    }
   ],
   "source": [
    "## Deriving advertisements per song for churned and non churned users\n",
    "churned_songs = churned_page_breakdown_pd[churned_page_breakdown_pd['page'] == 'NextSong']['count'].values[0]\n",
    "churned_adverts = churned_page_breakdown_pd[churned_page_breakdown_pd['page'] == 'Roll Advert']['count'].values[0]\n",
    "\n",
    "non_churned_songs = non_churned_page_breakdown_pd[non_churned_page_breakdown_pd['page'] == 'NextSong']['count'].values[0]\n",
    "non_churned_adverts = non_churned_page_breakdown_pd[non_churned_page_breakdown_pd['page'] == 'Roll Advert']['count'].values[0]\n",
    "\n",
    "print ('Songs listened to per advertisement for churned users: ',churned_songs/churned_adverts)\n",
    "print ('Songs listened to per advertisement for non churned users: ',non_churned_songs/non_churned_adverts)\n"
   ]
  },
  {
   "cell_type": "code",
   "execution_count": 18,
   "metadata": {},
   "outputs": [
    {
     "name": "stdout",
     "output_type": "stream",
     "text": [
      "% of non churned users who are on the free level:  18.574735308\n",
      "% of churned users who are on the free level:  27.612339515\n"
     ]
    }
   ],
   "source": [
    "#Churn rate for free vs paid users\n",
    "non_churned_user_level = data.filter((data.Churn ==  0 )).groupby(data.level).count()\n",
    "churned_user_level = data.filter((data.Churn ==  1 )).groupby(data.level).count()\n",
    "non_churned_user_level_pd = non_churned_user_level.toPandas()\n",
    "churned_user_level_pd = churned_user_level.toPandas()\n",
    "\n",
    "free_level_churned = (non_churned_user_level_pd.loc[0]['count'] / non_churned_user_level_pd['count'].sum()) * 100\n",
    "print ('% of non churned users who are on the free level: ', free_level_churned)\n",
    "\n",
    "\n",
    "free_level_non_churned = (churned_user_level_pd.loc[0]['count'] / churned_user_level_pd['count'].sum()) * 100\n",
    "print ('% of churned users who are on the free level: ',free_level_non_churned)\n"
   ]
  },
  {
   "cell_type": "code",
   "execution_count": 19,
   "metadata": {},
   "outputs": [],
   "source": [
    "churned_page_breakdown = data.select(['Churn', 'page']).filter((data.Churn == 1) & (~data['page'].isin(['NextSong',\n",
    "                                                                                                        'Cancel',                                                                                                      'Cancellation Confirmation']))).sort('page')\n",
    "\n",
    "churned_page_breakdown_pd = churned_page_breakdown.toPandas()\n",
    "\n",
    "non_churned_page_breakdown = data.select(['Churn', 'page']).filter((data.page != 'NextSong') & (data.Churn == 0)).sort('page')\n",
    "\n",
    "non_churned_page_breakdown_pd = non_churned_page_breakdown.toPandas()"
   ]
  },
  {
   "cell_type": "code",
   "execution_count": 20,
   "metadata": {},
   "outputs": [
    {
     "data": {
      "image/png": "[encoded data removed]",
      "text/plain": [
       "<matplotlib.figure.Figure at 0x7f6cd93c8b00>"
      ]
     },
     "metadata": {
      "needs_background": "light"
     },
     "output_type": "display_data"
    },
    {
     "data": {
      "image/png": "[encoded data removed]",
      "text/plain": [
       "<matplotlib.figure.Figure at 0x7f6cdf235dd8>"
      ]
     },
     "metadata": {
      "needs_background": "light"
     },
     "output_type": "display_data"
    }
   ],
   "source": [
    "def plot_breakdown(data, title, column, xmax=30):\n",
    "    '''\n",
    "    Plots count distribution for given dataset\n",
    "    \n",
    "    INPUT\n",
    "    data: user data(dataframe)\n",
    "    title: plot title(Str)\n",
    "    column: column of dataset to plot(str)\n",
    "    xmax: x axis range(int)\n",
    "    \n",
    "    OUTPUT\n",
    "    Count distribution plot\n",
    "    '''\n",
    "    ax = sns.barplot(y=data[column],\n",
    "                     x=range(len(data[column])),\n",
    "                     orient='h',\n",
    "                     estimator=lambda x: len(x) / len(data[column]) * 100);\n",
    "    ax.set(xlim=(0, xmax))\n",
    "    ax.set(ylabel=column);\n",
    "    ax.set(xlabel=\"Percentage\");\n",
    "    ax.set(title=(title + ' User Data'))\n",
    "    \n",
    "    plt.show()\n",
    "\n",
    "plot_breakdown(churned_page_breakdown_pd, 'Churned', 'page')\n",
    "plot_breakdown(non_churned_page_breakdown_pd, 'Non Churned', 'page')\n"
   ]
  },
  {
   "cell_type": "code",
   "execution_count": 21,
   "metadata": {},
   "outputs": [],
   "source": [
    "churned_users = dataset_pd[dataset_pd['Churn'] == 1]\n",
    "non_churned_users = dataset_pd[dataset_pd['Churn'] == 0]"
   ]
  },
  {
   "cell_type": "code",
   "execution_count": 22,
   "metadata": {},
   "outputs": [],
   "source": [
    "def calculate_songs_per_session(data):\n",
    "    '''\n",
    "    INPUT\n",
    "    data: pandas dataframe\n",
    "    \n",
    "    OUTPUT\n",
    "    Song per session per user dataset\n",
    "    '''\n",
    "    logins = data[data['page'].isin(['Logout', 'Cancellation Confirmation'])].groupby('userId').count()['page']\n",
    "    songs = data[data['page'] == 'NextSong'].groupby('userId').count()['page']\n",
    "    \n",
    "    return songs/logins"
   ]
  },
  {
   "cell_type": "code",
   "execution_count": 23,
   "metadata": {},
   "outputs": [
    {
     "name": "stdout",
     "output_type": "stream",
     "text": [
      "Average songs played per session for churned users (before logging out or cancelling):  52.9407060289\n",
      "Average songs played per session for non churned users (logging out):  70.9359912778\n"
     ]
    }
   ],
   "source": [
    "churned_sessions = calculate_songs_per_session(churned_users)\n",
    "non_churned_sessions = calculate_songs_per_session(non_churned_users)\n",
    "\n",
    "print ('Average songs played per session for churned users (before logging out or cancelling): ',churned_sessions.mean())\n",
    "print ('Average songs played per session for non churned users (logging out): ',non_churned_sessions.mean())"
   ]
  },
  {
   "cell_type": "code",
   "execution_count": null,
   "metadata": {},
   "outputs": [],
   "source": []
  },
  {
   "cell_type": "code",
   "execution_count": 24,
   "metadata": {},
   "outputs": [],
   "source": [
    "##Create datasaets of paid vs free user groups for churned and non churned users\n",
    "churned_level_breakdown = data.select(['Churn', 'level']).filter((data.Churn == 1))\n",
    "churned_level_breakdown_pd = churned_level_breakdown.toPandas()\n",
    "                                                                   \n",
    "non_churned_level_breakdown = data.select(['Churn', 'level']).filter((data.Churn == 0))\n",
    "non_churned_level_breakdown_pd = non_churned_level_breakdown.toPandas()"
   ]
  },
  {
   "cell_type": "code",
   "execution_count": 25,
   "metadata": {},
   "outputs": [
    {
     "data": {
      "image/png": "[encoded data removed]",
      "text/plain": [
       "<matplotlib.figure.Figure at 0x7f6ce9c68630>"
      ]
     },
     "metadata": {
      "needs_background": "light"
     },
     "output_type": "display_data"
    },
    {
     "data": {
      "image/png": "[encoded data removed]",
      "text/plain": [
       "<matplotlib.figure.Figure at 0x7f6ce11ae518>"
      ]
     },
     "metadata": {
      "needs_background": "light"
     },
     "output_type": "display_data"
    }
   ],
   "source": [
    "plot_breakdown(churned_level_breakdown_pd, 'Churned', 'level', xmax=100)\n",
    "plot_breakdown(non_churned_level_breakdown_pd, 'Non Churned', 'level', xmax=100)"
   ]
  },
  {
   "cell_type": "code",
   "execution_count": 26,
   "metadata": {},
   "outputs": [],
   "source": [
    "### Thumbs up distribution of churned users\n",
    "churned_thumbs_up = data.select(['userId', 'page']).filter((data.Churn == 1) & (data.page.isin(['Thumbs Down',\n",
    "                                                                                                'Thumbs Down'])))\n",
    "churned_thumbs_up_pd = churned_thumbs_up.toPandas().groupby('userId').count()\n",
    "\n",
    "churned_songs = data.select(['userId', 'page']).filter((data.Churn == 1) & (data.page == 'NextSong'))\n",
    "churned_songs_pd = churned_songs.toPandas().groupby('userId').count()"
   ]
  },
  {
   "cell_type": "code",
   "execution_count": 27,
   "metadata": {},
   "outputs": [
    {
     "data": {
      "text/html": [
       "<div>\n",
       "<style>\n",
       "    .dataframe thead tr:only-child th {\n",
       "        text-align: right;\n",
       "    }\n",
       "\n",
       "    .dataframe thead th {\n",
       "        text-align: left;\n",
       "    }\n",
       "\n",
       "    .dataframe tbody tr th {\n",
       "        vertical-align: top;\n",
       "    }\n",
       "</style>\n",
       "<table border=\"1\" class=\"dataframe\">\n",
       "  <thead>\n",
       "    <tr style=\"text-align: right;\">\n",
       "      <th></th>\n",
       "      <th>page</th>\n",
       "    </tr>\n",
       "    <tr>\n",
       "      <th>userId</th>\n",
       "      <th></th>\n",
       "    </tr>\n",
       "  </thead>\n",
       "  <tbody>\n",
       "    <tr>\n",
       "      <th>100001</th>\n",
       "      <td>2</td>\n",
       "    </tr>\n",
       "    <tr>\n",
       "      <th>100005</th>\n",
       "      <td>3</td>\n",
       "    </tr>\n",
       "    <tr>\n",
       "      <th>100006</th>\n",
       "      <td>2</td>\n",
       "    </tr>\n",
       "    <tr>\n",
       "      <th>100007</th>\n",
       "      <td>6</td>\n",
       "    </tr>\n",
       "    <tr>\n",
       "      <th>100009</th>\n",
       "      <td>8</td>\n",
       "    </tr>\n",
       "  </tbody>\n",
       "</table>\n",
       "</div>"
      ],
      "text/plain": [
       "        page\n",
       "userId      \n",
       "100001     2\n",
       "100005     3\n",
       "100006     2\n",
       "100007     6\n",
       "100009     8"
      ]
     },
     "execution_count": 27,
     "metadata": {},
     "output_type": "execute_result"
    }
   ],
   "source": [
    "churned_thumbs_up_pd.head()"
   ]
  },
  {
   "cell_type": "code",
   "execution_count": 28,
   "metadata": {},
   "outputs": [
    {
     "data": {
      "text/html": [
       "<div>\n",
       "<style>\n",
       "    .dataframe thead tr:only-child th {\n",
       "        text-align: right;\n",
       "    }\n",
       "\n",
       "    .dataframe thead th {\n",
       "        text-align: left;\n",
       "    }\n",
       "\n",
       "    .dataframe tbody tr th {\n",
       "        vertical-align: top;\n",
       "    }\n",
       "</style>\n",
       "<table border=\"1\" class=\"dataframe\">\n",
       "  <thead>\n",
       "    <tr style=\"text-align: right;\">\n",
       "      <th></th>\n",
       "      <th>page</th>\n",
       "    </tr>\n",
       "    <tr>\n",
       "      <th>userId</th>\n",
       "      <th></th>\n",
       "    </tr>\n",
       "  </thead>\n",
       "  <tbody>\n",
       "    <tr>\n",
       "      <th>100001</th>\n",
       "      <td>133</td>\n",
       "    </tr>\n",
       "    <tr>\n",
       "      <th>100003</th>\n",
       "      <td>51</td>\n",
       "    </tr>\n",
       "    <tr>\n",
       "      <th>100005</th>\n",
       "      <td>154</td>\n",
       "    </tr>\n",
       "    <tr>\n",
       "      <th>100006</th>\n",
       "      <td>26</td>\n",
       "    </tr>\n",
       "    <tr>\n",
       "      <th>100007</th>\n",
       "      <td>423</td>\n",
       "    </tr>\n",
       "  </tbody>\n",
       "</table>\n",
       "</div>"
      ],
      "text/plain": [
       "        page\n",
       "userId      \n",
       "100001   133\n",
       "100003    51\n",
       "100005   154\n",
       "100006    26\n",
       "100007   423"
      ]
     },
     "execution_count": 28,
     "metadata": {},
     "output_type": "execute_result"
    }
   ],
   "source": [
    "churned_songs_pd.head()"
   ]
  },
  {
   "cell_type": "code",
   "execution_count": 29,
   "metadata": {},
   "outputs": [
    {
     "data": {
      "text/plain": [
       "page    0.018969\n",
       "dtype: float64"
      ]
     },
     "execution_count": 29,
     "metadata": {},
     "output_type": "execute_result"
    }
   ],
   "source": [
    "### Thumbs up per song for churned users\n",
    "(churned_thumbs_up_pd/churned_songs_pd).mean()"
   ]
  },
  {
   "cell_type": "code",
   "execution_count": 30,
   "metadata": {},
   "outputs": [],
   "source": [
    "### Thumbs up distribution of non churned users\n",
    "non_churned_thumbs_up = data.select(['userId', 'page']).filter((data.Churn == 0) & (data.page.isin(['Thumbs Down',\n",
    "                                                                                                    'Thumbs Up'])))\n",
    "non_churned_thumbs_up_pd = non_churned_thumbs_up.toPandas().groupby('userId').count()\n",
    "\n",
    "non_churned_songs = data.select(['userId', 'page']).filter((data.Churn == 0) & (data.page == 'NextSong'))\n",
    "non_churned_songs_pd = non_churned_songs.toPandas().groupby('userId').count()"
   ]
  },
  {
   "cell_type": "code",
   "execution_count": 31,
   "metadata": {},
   "outputs": [
    {
     "data": {
      "text/plain": [
       "page    0.066451\n",
       "dtype: float64"
      ]
     },
     "execution_count": 31,
     "metadata": {},
     "output_type": "execute_result"
    }
   ],
   "source": [
    "### Tumbs up per song for non churned users\n",
    "(non_churned_thumbs_up_pd/non_churned_songs_pd).mean()"
   ]
  },
  {
   "cell_type": "markdown",
   "metadata": {},
   "source": [
    "# Feature Engineering\n",
    "Once you've familiarized yourself with the data, build out the features you find promising to train your model on. To work with the full dataset, you can follow the following steps.\n",
    "- Write a script to extract the necessary features from the smaller subset of data\n",
    "- Ensure that your script is scalable, using the best practices discussed in Lesson 3\n",
    "- Try your script on the full data set, debugging your script if necessary\n",
    "\n",
    "If you are working in the classroom workspace, you can just extract features based on the small subset of data contained here. Be sure to transfer over this work to the larger dataset when you work on your Spark cluster."
   ]
  },
  {
   "cell_type": "markdown",
   "metadata": {},
   "source": [
    "### Aggregate per song dataframe"
   ]
  },
  {
   "cell_type": "code",
   "execution_count": 32,
   "metadata": {},
   "outputs": [],
   "source": [
    "def data_preprocessing(data):\n",
    "    \n",
    "    '''\n",
    "    Generates dataset with page visit per song listened for each user\n",
    "    \n",
    "    INPUT\n",
    "    data: raw user record data\n",
    "    \n",
    "    OUTPUT\n",
    "    dataset containing machine learning features and target\n",
    "    '''\n",
    "\n",
    "    ##Creating features and creating 'one hot encoded' dataset for selected page variables\n",
    "    thumbs_up = udf(lambda x: 1 if x == \"Thumbs Up\" else 0, IntegerType())\n",
    "    data = data.withColumn(\"Thumbs Up\", thumbs_up(\"page\"))\n",
    "\n",
    "    thumbs_down = udf(lambda x: 1 if x == \"Thumbs Down\" else 0, IntegerType())\n",
    "    data = data.withColumn(\"Thumbs Down\", thumbs_down(\"page\"))\n",
    "\n",
    "    songs = udf(lambda x: 1 if x == \"NextSong\" else 0, IntegerType())\n",
    "    data = data.withColumn(\"Song\", songs(\"page\"))\n",
    "\n",
    "    adverts = udf(lambda x: 1 if x == \"Roll Advert\" else 0, IntegerType())\n",
    "    data = data.withColumn(\"Advert\", adverts(\"page\"))\n",
    "\n",
    "    add_friend = udf(lambda x: 1 if x == \"Add Friend\" else 0, IntegerType())\n",
    "    data = data.withColumn(\"Add Friend\", add_friend(\"page\"))\n",
    "\n",
    "    level = udf(lambda x: 1 if x == \"paid\" else 0, IntegerType())\n",
    "    data = data.withColumn(\"Level\", level(\"level\"))\n",
    "\n",
    "    userId = udf(lambda x: int(x), IntegerType())\n",
    "    data = data.withColumn(\"User ID\", userId(\"userId\"))\n",
    "\n",
    "    #Selecting feature and target from larger dataset\n",
    "    model_data = data.select(['User ID','Thumbs up', 'Thumbs down', 'Song', 'Advert', 'Add Friend', 'Level', 'Churn'])\n",
    "\n",
    "    #Grouping by users and counting total page interactions\n",
    "    sums = model_data.groupBy('User ID').agg(_sum('Song').alias('Songs'),\n",
    "                                             _sum('Thumbs Up').alias('Thumb Ups'),\n",
    "                                             _sum('Thumbs Down').alias('Thumb Downs'),\n",
    "                                             _sum('Advert').alias('Adverts'),\n",
    "                                             _sum('Add Friend').alias('Add Friend'),\n",
    "                                             _max('Level').alias('Level'),\n",
    "                                             _max('Churn').alias('label'))\n",
    "\n",
    "\n",
    "    #import pyspark.sql.functions as func\n",
    "\n",
    "    per_song_df = sums\n",
    "\n",
    "    #Finalizing features by extracing page visits per song for each user\n",
    "    for col_name in per_song_df.columns[2:-2]:\n",
    "        per_song_df = per_song_df.withColumn(col_name, func.round((per_song_df[col_name] / per_song_df.Songs), 5))\n",
    "        \n",
    "    return per_song_df\n",
    "\n",
    "processed_data = data_preprocessing(data)"
   ]
  },
  {
   "cell_type": "code",
   "execution_count": 33,
   "metadata": {},
   "outputs": [],
   "source": [
    "processed_data_pd = processed_data.toPandas()"
   ]
  },
  {
   "cell_type": "code",
   "execution_count": 34,
   "metadata": {},
   "outputs": [
    {
     "data": {
      "text/html": [
       "<div>\n",
       "<style>\n",
       "    .dataframe thead tr:only-child th {\n",
       "        text-align: right;\n",
       "    }\n",
       "\n",
       "    .dataframe thead th {\n",
       "        text-align: left;\n",
       "    }\n",
       "\n",
       "    .dataframe tbody tr th {\n",
       "        vertical-align: top;\n",
       "    }\n",
       "</style>\n",
       "<table border=\"1\" class=\"dataframe\">\n",
       "  <thead>\n",
       "    <tr style=\"text-align: right;\">\n",
       "      <th></th>\n",
       "      <th>User ID</th>\n",
       "      <th>Songs</th>\n",
       "      <th>Thumb Ups</th>\n",
       "      <th>Thumb Downs</th>\n",
       "      <th>Adverts</th>\n",
       "      <th>Add Friend</th>\n",
       "      <th>Level</th>\n",
       "      <th>label</th>\n",
       "    </tr>\n",
       "  </thead>\n",
       "  <tbody>\n",
       "    <tr>\n",
       "      <th>0</th>\n",
       "      <td>148</td>\n",
       "      <td>398</td>\n",
       "      <td>0.07035</td>\n",
       "      <td>0.00754</td>\n",
       "      <td>0.08040</td>\n",
       "      <td>0.01759</td>\n",
       "      <td>0</td>\n",
       "      <td>0</td>\n",
       "    </tr>\n",
       "    <tr>\n",
       "      <th>1</th>\n",
       "      <td>85</td>\n",
       "      <td>3616</td>\n",
       "      <td>0.05310</td>\n",
       "      <td>0.01051</td>\n",
       "      <td>0.00913</td>\n",
       "      <td>0.01604</td>\n",
       "      <td>1</td>\n",
       "      <td>0</td>\n",
       "    </tr>\n",
       "    <tr>\n",
       "      <th>2</th>\n",
       "      <td>137</td>\n",
       "      <td>154</td>\n",
       "      <td>0.05195</td>\n",
       "      <td>0.00649</td>\n",
       "      <td>0.06494</td>\n",
       "      <td>0.05195</td>\n",
       "      <td>1</td>\n",
       "      <td>0</td>\n",
       "    </tr>\n",
       "    <tr>\n",
       "      <th>3</th>\n",
       "      <td>200001</td>\n",
       "      <td>115</td>\n",
       "      <td>0.08696</td>\n",
       "      <td>0.00870</td>\n",
       "      <td>0.02609</td>\n",
       "      <td>0.00000</td>\n",
       "      <td>0</td>\n",
       "      <td>1</td>\n",
       "    </tr>\n",
       "    <tr>\n",
       "      <th>4</th>\n",
       "      <td>65</td>\n",
       "      <td>2113</td>\n",
       "      <td>0.05253</td>\n",
       "      <td>0.00805</td>\n",
       "      <td>0.00379</td>\n",
       "      <td>0.02508</td>\n",
       "      <td>1</td>\n",
       "      <td>0</td>\n",
       "    </tr>\n",
       "  </tbody>\n",
       "</table>\n",
       "</div>"
      ],
      "text/plain": [
       "   User ID  Songs  Thumb Ups  Thumb Downs  Adverts  Add Friend  Level  label\n",
       "0      148    398    0.07035      0.00754  0.08040     0.01759      0      0\n",
       "1       85   3616    0.05310      0.01051  0.00913     0.01604      1      0\n",
       "2      137    154    0.05195      0.00649  0.06494     0.05195      1      0\n",
       "3   200001    115    0.08696      0.00870  0.02609     0.00000      0      1\n",
       "4       65   2113    0.05253      0.00805  0.00379     0.02508      1      0"
      ]
     },
     "execution_count": 34,
     "metadata": {},
     "output_type": "execute_result"
    }
   ],
   "source": [
    "processed_data_pd.head()"
   ]
  },
  {
   "cell_type": "code",
   "execution_count": 35,
   "metadata": {},
   "outputs": [
    {
     "data": {
      "text/html": [
       "<div>\n",
       "<style>\n",
       "    .dataframe thead tr:only-child th {\n",
       "        text-align: right;\n",
       "    }\n",
       "\n",
       "    .dataframe thead th {\n",
       "        text-align: left;\n",
       "    }\n",
       "\n",
       "    .dataframe tbody tr th {\n",
       "        vertical-align: top;\n",
       "    }\n",
       "</style>\n",
       "<table border=\"1\" class=\"dataframe\">\n",
       "  <thead>\n",
       "    <tr style=\"text-align: right;\">\n",
       "      <th></th>\n",
       "      <th>User ID</th>\n",
       "      <th>Songs</th>\n",
       "      <th>Thumb Ups</th>\n",
       "      <th>Thumb Downs</th>\n",
       "      <th>Adverts</th>\n",
       "      <th>Add Friend</th>\n",
       "      <th>Level</th>\n",
       "      <th>label</th>\n",
       "    </tr>\n",
       "  </thead>\n",
       "  <tbody>\n",
       "    <tr>\n",
       "      <th>User ID</th>\n",
       "      <td>1.000000</td>\n",
       "      <td>-0.060148</td>\n",
       "      <td>0.422182</td>\n",
       "      <td>0.268586</td>\n",
       "      <td>-0.018497</td>\n",
       "      <td>-0.015531</td>\n",
       "      <td>0.059212</td>\n",
       "      <td>0.080377</td>\n",
       "    </tr>\n",
       "    <tr>\n",
       "      <th>Songs</th>\n",
       "      <td>-0.060148</td>\n",
       "      <td>1.000000</td>\n",
       "      <td>0.010742</td>\n",
       "      <td>-0.062836</td>\n",
       "      <td>-0.435879</td>\n",
       "      <td>-0.118493</td>\n",
       "      <td>0.462415</td>\n",
       "      <td>-0.156110</td>\n",
       "    </tr>\n",
       "    <tr>\n",
       "      <th>Thumb Ups</th>\n",
       "      <td>0.422182</td>\n",
       "      <td>0.010742</td>\n",
       "      <td>1.000000</td>\n",
       "      <td>-0.084118</td>\n",
       "      <td>-0.090557</td>\n",
       "      <td>0.132000</td>\n",
       "      <td>0.016936</td>\n",
       "      <td>-0.026834</td>\n",
       "    </tr>\n",
       "    <tr>\n",
       "      <th>Thumb Downs</th>\n",
       "      <td>0.268586</td>\n",
       "      <td>-0.062836</td>\n",
       "      <td>-0.084118</td>\n",
       "      <td>1.000000</td>\n",
       "      <td>0.192721</td>\n",
       "      <td>0.038713</td>\n",
       "      <td>-0.088333</td>\n",
       "      <td>0.286762</td>\n",
       "    </tr>\n",
       "    <tr>\n",
       "      <th>Adverts</th>\n",
       "      <td>-0.018497</td>\n",
       "      <td>-0.435879</td>\n",
       "      <td>-0.090557</td>\n",
       "      <td>0.192721</td>\n",
       "      <td>1.000000</td>\n",
       "      <td>0.112013</td>\n",
       "      <td>-0.734470</td>\n",
       "      <td>0.191107</td>\n",
       "    </tr>\n",
       "    <tr>\n",
       "      <th>Add Friend</th>\n",
       "      <td>-0.015531</td>\n",
       "      <td>-0.118493</td>\n",
       "      <td>0.132000</td>\n",
       "      <td>0.038713</td>\n",
       "      <td>0.112013</td>\n",
       "      <td>1.000000</td>\n",
       "      <td>-0.123798</td>\n",
       "      <td>-0.025698</td>\n",
       "    </tr>\n",
       "    <tr>\n",
       "      <th>Level</th>\n",
       "      <td>0.059212</td>\n",
       "      <td>0.462415</td>\n",
       "      <td>0.016936</td>\n",
       "      <td>-0.088333</td>\n",
       "      <td>-0.734470</td>\n",
       "      <td>-0.123798</td>\n",
       "      <td>1.000000</td>\n",
       "      <td>-0.050863</td>\n",
       "    </tr>\n",
       "    <tr>\n",
       "      <th>label</th>\n",
       "      <td>0.080377</td>\n",
       "      <td>-0.156110</td>\n",
       "      <td>-0.026834</td>\n",
       "      <td>0.286762</td>\n",
       "      <td>0.191107</td>\n",
       "      <td>-0.025698</td>\n",
       "      <td>-0.050863</td>\n",
       "      <td>1.000000</td>\n",
       "    </tr>\n",
       "  </tbody>\n",
       "</table>\n",
       "</div>"
      ],
      "text/plain": [
       "              User ID     Songs  Thumb Ups  Thumb Downs   Adverts  Add Friend  \\\n",
       "User ID      1.000000 -0.060148   0.422182     0.268586 -0.018497   -0.015531   \n",
       "Songs       -0.060148  1.000000   0.010742    -0.062836 -0.435879   -0.118493   \n",
       "Thumb Ups    0.422182  0.010742   1.000000    -0.084118 -0.090557    0.132000   \n",
       "Thumb Downs  0.268586 -0.062836  -0.084118     1.000000  0.192721    0.038713   \n",
       "Adverts     -0.018497 -0.435879  -0.090557     0.192721  1.000000    0.112013   \n",
       "Add Friend  -0.015531 -0.118493   0.132000     0.038713  0.112013    1.000000   \n",
       "Level        0.059212  0.462415   0.016936    -0.088333 -0.734470   -0.123798   \n",
       "label        0.080377 -0.156110  -0.026834     0.286762  0.191107   -0.025698   \n",
       "\n",
       "                Level     label  \n",
       "User ID      0.059212  0.080377  \n",
       "Songs        0.462415 -0.156110  \n",
       "Thumb Ups    0.016936 -0.026834  \n",
       "Thumb Downs -0.088333  0.286762  \n",
       "Adverts     -0.734470  0.191107  \n",
       "Add Friend  -0.123798 -0.025698  \n",
       "Level        1.000000 -0.050863  \n",
       "label       -0.050863  1.000000  "
      ]
     },
     "execution_count": 35,
     "metadata": {},
     "output_type": "execute_result"
    }
   ],
   "source": [
    "processed_data_pd.corr()"
   ]
  },
  {
   "cell_type": "code",
   "execution_count": 36,
   "metadata": {},
   "outputs": [
    {
     "data": {
      "text/html": [
       "<div>\n",
       "<style>\n",
       "    .dataframe thead tr:only-child th {\n",
       "        text-align: right;\n",
       "    }\n",
       "\n",
       "    .dataframe thead th {\n",
       "        text-align: left;\n",
       "    }\n",
       "\n",
       "    .dataframe tbody tr th {\n",
       "        vertical-align: top;\n",
       "    }\n",
       "</style>\n",
       "<table border=\"1\" class=\"dataframe\">\n",
       "  <thead>\n",
       "    <tr style=\"text-align: right;\">\n",
       "      <th></th>\n",
       "      <th>User ID</th>\n",
       "      <th>Songs</th>\n",
       "      <th>Thumb Ups</th>\n",
       "      <th>Thumb Downs</th>\n",
       "      <th>Adverts</th>\n",
       "      <th>Add Friend</th>\n",
       "      <th>Level</th>\n",
       "      <th>label</th>\n",
       "    </tr>\n",
       "  </thead>\n",
       "  <tbody>\n",
       "    <tr>\n",
       "      <th>count</th>\n",
       "      <td>225.000000</td>\n",
       "      <td>225.000000</td>\n",
       "      <td>225.000000</td>\n",
       "      <td>225.000000</td>\n",
       "      <td>225.000000</td>\n",
       "      <td>225.000000</td>\n",
       "      <td>225.000000</td>\n",
       "      <td>225.000000</td>\n",
       "    </tr>\n",
       "    <tr>\n",
       "      <th>mean</th>\n",
       "      <td>65391.013333</td>\n",
       "      <td>1013.813333</td>\n",
       "      <td>0.054756</td>\n",
       "      <td>0.011895</td>\n",
       "      <td>0.041113</td>\n",
       "      <td>0.021558</td>\n",
       "      <td>0.733333</td>\n",
       "      <td>0.231111</td>\n",
       "    </tr>\n",
       "    <tr>\n",
       "      <th>std</th>\n",
       "      <td>105396.477919</td>\n",
       "      <td>1104.960779</td>\n",
       "      <td>0.022879</td>\n",
       "      <td>0.010759</td>\n",
       "      <td>0.050472</td>\n",
       "      <td>0.021841</td>\n",
       "      <td>0.443203</td>\n",
       "      <td>0.422483</td>\n",
       "    </tr>\n",
       "    <tr>\n",
       "      <th>min</th>\n",
       "      <td>2.000000</td>\n",
       "      <td>3.000000</td>\n",
       "      <td>0.000000</td>\n",
       "      <td>0.000000</td>\n",
       "      <td>0.000000</td>\n",
       "      <td>0.000000</td>\n",
       "      <td>0.000000</td>\n",
       "      <td>0.000000</td>\n",
       "    </tr>\n",
       "    <tr>\n",
       "      <th>25%</th>\n",
       "      <td>60.000000</td>\n",
       "      <td>230.000000</td>\n",
       "      <td>0.044400</td>\n",
       "      <td>0.006970</td>\n",
       "      <td>0.003550</td>\n",
       "      <td>0.014150</td>\n",
       "      <td>0.000000</td>\n",
       "      <td>0.000000</td>\n",
       "    </tr>\n",
       "    <tr>\n",
       "      <th>50%</th>\n",
       "      <td>116.000000</td>\n",
       "      <td>675.000000</td>\n",
       "      <td>0.051190</td>\n",
       "      <td>0.009480</td>\n",
       "      <td>0.017840</td>\n",
       "      <td>0.018300</td>\n",
       "      <td>1.000000</td>\n",
       "      <td>0.000000</td>\n",
       "    </tr>\n",
       "    <tr>\n",
       "      <th>75%</th>\n",
       "      <td>100017.000000</td>\n",
       "      <td>1571.000000</td>\n",
       "      <td>0.060760</td>\n",
       "      <td>0.013240</td>\n",
       "      <td>0.068320</td>\n",
       "      <td>0.024530</td>\n",
       "      <td>1.000000</td>\n",
       "      <td>0.000000</td>\n",
       "    </tr>\n",
       "    <tr>\n",
       "      <th>max</th>\n",
       "      <td>300025.000000</td>\n",
       "      <td>8002.000000</td>\n",
       "      <td>0.227270</td>\n",
       "      <td>0.090910</td>\n",
       "      <td>0.333330</td>\n",
       "      <td>0.241380</td>\n",
       "      <td>1.000000</td>\n",
       "      <td>1.000000</td>\n",
       "    </tr>\n",
       "  </tbody>\n",
       "</table>\n",
       "</div>"
      ],
      "text/plain": [
       "             User ID        Songs   Thumb Ups  Thumb Downs     Adverts  \\\n",
       "count     225.000000   225.000000  225.000000   225.000000  225.000000   \n",
       "mean    65391.013333  1013.813333    0.054756     0.011895    0.041113   \n",
       "std    105396.477919  1104.960779    0.022879     0.010759    0.050472   \n",
       "min         2.000000     3.000000    0.000000     0.000000    0.000000   \n",
       "25%        60.000000   230.000000    0.044400     0.006970    0.003550   \n",
       "50%       116.000000   675.000000    0.051190     0.009480    0.017840   \n",
       "75%    100017.000000  1571.000000    0.060760     0.013240    0.068320   \n",
       "max    300025.000000  8002.000000    0.227270     0.090910    0.333330   \n",
       "\n",
       "       Add Friend       Level       label  \n",
       "count  225.000000  225.000000  225.000000  \n",
       "mean     0.021558    0.733333    0.231111  \n",
       "std      0.021841    0.443203    0.422483  \n",
       "min      0.000000    0.000000    0.000000  \n",
       "25%      0.014150    0.000000    0.000000  \n",
       "50%      0.018300    1.000000    0.000000  \n",
       "75%      0.024530    1.000000    0.000000  \n",
       "max      0.241380    1.000000    1.000000  "
      ]
     },
     "execution_count": 36,
     "metadata": {},
     "output_type": "execute_result"
    }
   ],
   "source": [
    "processed_data_pd.describe()"
   ]
  },
  {
   "cell_type": "markdown",
   "metadata": {},
   "source": [
    "### Vector Assembly"
   ]
  },
  {
   "cell_type": "code",
   "execution_count": 37,
   "metadata": {},
   "outputs": [],
   "source": [
    "def vector_assembly(per_song_df):\n",
    "    '''\n",
    "    INPUT\n",
    "    dataset containing user interactions per song listened to\n",
    "    \n",
    "    OUTPUT\n",
    "    dataset containing label, and feature vector\n",
    "    '''\n",
    "    ml_data = per_song_df.select(['Thumb Ups',\n",
    "                                  'Thumb Downs',\n",
    "                                  'Adverts',\n",
    "                                  'Add Friend',\n",
    "                                  'Level',\n",
    "                                  'label'])\n",
    "    \n",
    "    assembler = VectorAssembler(inputCols=['Thumb Ups',\n",
    "                                           'Thumb Downs',\n",
    "                                           'Adverts',\n",
    "                                           'Add Friend',\n",
    "                                           'Level'], outputCol=\"features\")\n",
    "    \n",
    "    features_assembled = assembler.transform(ml_data)\n",
    "    \n",
    "    return features_assembled\n",
    "    \n",
    "assembled_data = vector_assembly(processed_data)"
   ]
  },
  {
   "cell_type": "code",
   "execution_count": 38,
   "metadata": {},
   "outputs": [],
   "source": [
    "def data_split(data):\n",
    "    '''\n",
    "    Selects features vector and label and splits data\n",
    "    INPUT\n",
    "    dataset containinng features,, labels and vector assembles features\n",
    "    \n",
    "    OUPUT\n",
    "    train, test, validation datasets\n",
    "    '''\n",
    "    label_and_features = assembled_data.select(['label', 'features'])\n",
    "    \n",
    "    train, test, validation = label_and_features.randomSplit([0.60, 0.20, 0.20], seed=12345)\n",
    "    \n",
    "    return train, test, validation\n",
    "\n",
    "train, test, validation = data_split(assembled_data)"
   ]
  },
  {
   "cell_type": "code",
   "execution_count": 39,
   "metadata": {},
   "outputs": [
    {
     "name": "stdout",
     "output_type": "stream",
     "text": [
      "+-----+--------------------+\n",
      "|label|            features|\n",
      "+-----+--------------------+\n",
      "|    0|[0.07035,0.00754,...|\n",
      "|    0|[0.05195,0.00649,...|\n",
      "|    0|[0.0625,0.0,0.031...|\n",
      "|    0|[0.04331,0.01181,...|\n",
      "|    1|[0.04492,0.01418,...|\n",
      "|    0|[0.09461,0.00888,...|\n",
      "|    0|(5,[0,2],[0.03774...|\n",
      "|    0|[0.05239,0.00815,...|\n",
      "|    1|[0.04786,0.0089,0...|\n",
      "|    0|[0.04762,0.00709,...|\n",
      "|    1|[0.04545,0.01948,...|\n",
      "|    1|[0.05422,0.0151,0...|\n",
      "|    0|[0.04706,0.00392,...|\n",
      "|    0|[0.05657,0.03434,...|\n",
      "|    0|[0.08244,0.01075,...|\n",
      "|    0|[0.04717,0.00943,...|\n",
      "|    0|[0.04806,0.0093,0...|\n",
      "|    0|[0.05035,0.01042,...|\n",
      "|    0|[0.10714,0.0,0.14...|\n",
      "|    0|[0.04879,0.031,5....|\n",
      "+-----+--------------------+\n",
      "only showing top 20 rows\n",
      "\n"
     ]
    }
   ],
   "source": [
    "train.show()"
   ]
  },
  {
   "cell_type": "markdown",
   "metadata": {},
   "source": [
    "# Modeling\n",
    "Split the full dataset into train, test, and validation sets. Test out several of the machine learning methods you learned. Evaluate the accuracy of the various models, tuning parameters as necessary. Determine your winning model based on test accuracy and report results on the validation set. Since the churned users are a fairly small subset, I suggest using F1 score as the metric to optimize."
   ]
  },
  {
   "cell_type": "markdown",
   "metadata": {},
   "source": [
    "### Model Evaluation"
   ]
  },
  {
   "cell_type": "code",
   "execution_count": 121,
   "metadata": {},
   "outputs": [],
   "source": [
    "#instantiate sparkcontext for array parallelization\n",
    "#sc = SparkContext.getOrCreate()\n",
    "\n",
    "def evaluate_model(preds):\n",
    "    '''\n",
    "    Evaluates models accruacy and area under roc\n",
    "    \n",
    "    INPUT\n",
    "    preds: models set of predicitons and labels\n",
    "    \n",
    "    OUTPUT\n",
    "    Accuracy\n",
    "    Area Under ROC\n",
    "    '''\n",
    "\n",
    "    #instantiate multiclass evaluator\n",
    "    evaluator = MulticlassClassificationEvaluator(predictionCol=\"prediction\")\n",
    "    print(\"Accuracy: \" + str(evaluator.evaluate(preds, {evaluator.metricName: \"accuracy\"})))\n",
    "    \n",
    "    #instantiate binaryclassification evaluator\n",
    "    evaluator2 = BinaryClassificationEvaluator()\n",
    "    print(\"Area Under ROC: \" + str(evaluator2.evaluate(preds, {evaluator2.metricName: \"areaUnderROC\"})))\n",
    "    \n"
   ]
  },
  {
   "cell_type": "code",
   "execution_count": 105,
   "metadata": {},
   "outputs": [],
   "source": [
    "def cross_validation(model, paramGrid, folds=3):\n",
    "    \n",
    "    '''\n",
    "    Cross_validation and optimization with f1 score\n",
    "    \n",
    "    INPUT\n",
    "    model: instantiated model\n",
    "    pramGrid: specific prameter grid for given model\n",
    "    folds(int): number of folds to use for cross validaiton\n",
    "    \n",
    "    OUTPUT\n",
    "    optimal cross_validated predictions dataset\n",
    "    '''\n",
    "    \n",
    "    #evaluate cross validation best model using f1 score\n",
    "    evaluator = MulticlassClassificationEvaluator(metricName=\"f1\")\n",
    "    \n",
    "    cv = CrossValidator(estimator=model, estimatorParamMaps=paramGrid, evaluator=evaluator, numFolds=folds, seed=42)\n",
    "    \n",
    "    #train cvModel\n",
    "    cvModel = cv.fit(train)\n",
    "    \n",
    "    #user best model to predict on the validation set\n",
    "    best_model = cvModel.bestModel\n",
    "    \n",
    "    cvpredictions = best_model.transform(validation)\n",
    "    \n",
    "    return cvpredictions, cvModel"
   ]
  },
  {
   "cell_type": "markdown",
   "metadata": {},
   "source": [
    "### Logistic Regression"
   ]
  },
  {
   "cell_type": "code",
   "execution_count": 88,
   "metadata": {},
   "outputs": [
    {
     "name": "stdout",
     "output_type": "stream",
     "text": [
      "Accuracy: 0.6666666666666666\n",
      "Area Under ROC: 0.7123745819397993\n"
     ]
    }
   ],
   "source": [
    "#instantiate model\n",
    "lr = LogisticRegression(maxIter=10, regParam=0.02)\n",
    "\n",
    "#fit model to training data\n",
    "lr = lr.fit(train)\n",
    "\n",
    "#perform predictions on validation set\n",
    "lr_results = lr.transform(validation)\n",
    "\n",
    "evaluate_model(lr_results)"
   ]
  },
  {
   "cell_type": "code",
   "execution_count": 89,
   "metadata": {},
   "outputs": [
    {
     "name": "stdout",
     "output_type": "stream",
     "text": [
      "+-----+--------------------+--------------------+--------------------+----------+\n",
      "|label|            features|       rawPrediction|         probability|prediction|\n",
      "+-----+--------------------+--------------------+--------------------+----------+\n",
      "|    1|[0.08696,0.0087,0...|[2.16577446164866...|[0.89713366724534...|       0.0|\n",
      "|    1|[0.03952,0.00916,...|[1.61000914120519...|[0.83341265555678...|       0.0|\n",
      "|    1|[0.04482,0.02852,...|[0.64722011376062...|[0.65638374852347...|       0.0|\n",
      "|    0|[0.07985,0.0038,0...|[1.90051821187779...|[0.86995016575010...|       0.0|\n",
      "|    1|[0.04846,0.00839,...|[1.68923420717429...|[0.84412342412076...|       0.0|\n",
      "|    1|[0.04844,0.01038,...|[1.41234761908804...|[0.80413596075386...|       0.0|\n",
      "|    1|[0.06015,0.01504,...|[1.17739537787809...|[0.76447916263551...|       0.0|\n",
      "|    1|[0.07317,0.02439,...|[0.38992501849986...|[0.59626464889681...|       0.0|\n",
      "|    0|[0.06818,0.0,0.0,...|[2.19219197342517...|[0.89954615299300...|       0.0|\n",
      "|    0|[0.04793,0.00777,...|[1.57706846891944...|[0.82878894092553...|       0.0|\n",
      "+-----+--------------------+--------------------+--------------------+----------+\n",
      "only showing top 10 rows\n",
      "\n"
     ]
    }
   ],
   "source": [
    "lr_results.show(10)"
   ]
  },
  {
   "cell_type": "markdown",
   "metadata": {},
   "source": [
    "### Random Forests"
   ]
  },
  {
   "cell_type": "code",
   "execution_count": 90,
   "metadata": {},
   "outputs": [
    {
     "name": "stdout",
     "output_type": "stream",
     "text": [
      "Accuracy: 0.6388888888888888\n",
      "Area Under ROC: 0.645484949832776\n"
     ]
    }
   ],
   "source": [
    "#instantiate model\n",
    "rf = RandomForestClassifier(featuresCol='features', labelCol='label', numTrees=10, maxDepth=4)\n",
    "\n",
    "#fit model to training data\n",
    "rf = rf.fit(train)\n",
    "\n",
    "#perform predictions on validation set\n",
    "rf_results = rf.transform(validation)\n",
    "\n",
    "evaluate_model(rf_results)"
   ]
  },
  {
   "cell_type": "code",
   "execution_count": 91,
   "metadata": {},
   "outputs": [
    {
     "name": "stdout",
     "output_type": "stream",
     "text": [
      "+-----+--------------------+--------------------+--------------------+----------+\n",
      "|label|            features|       rawPrediction|         probability|prediction|\n",
      "+-----+--------------------+--------------------+--------------------+----------+\n",
      "|    1|[0.08696,0.0087,0...|[7.16309974747474...|[0.71630997474747...|       0.0|\n",
      "|    1|[0.03952,0.00916,...|[7.94940915948987...|[0.79494091594898...|       0.0|\n",
      "|    1|[0.04482,0.02852,...|[6.77144130379424...|[0.67714413037942...|       0.0|\n",
      "|    0|[0.07985,0.0038,0...|[9.40108399609118...|[0.94010839960911...|       0.0|\n",
      "|    1|[0.04846,0.00839,...|[9.31320520821239...|[0.93132052082123...|       0.0|\n",
      "|    1|[0.04844,0.01038,...|[8.15377715668875...|[0.81537771566887...|       0.0|\n",
      "|    1|[0.06015,0.01504,...|[5.16070632798574...|[0.51607063279857...|       0.0|\n",
      "|    1|[0.07317,0.02439,...|[7.82261108989050...|[0.78226110898905...|       0.0|\n",
      "|    0|[0.06818,0.0,0.0,...|[7.74898663357715...|[0.77489866335771...|       0.0|\n",
      "|    0|[0.04793,0.00777,...|[9.43441732942451...|[0.94344173294245...|       0.0|\n",
      "|    0|[0.06182,0.01818,...|[6.09403966131907...|[0.60940396613190...|       0.0|\n",
      "|    1|[0.06542,0.01402,...|[6.96000702728644...|[0.69600070272864...|       0.0|\n",
      "|    0|[0.0274,0.00685,0...|[8.28497065681607...|[0.82849706568160...|       0.0|\n",
      "|    0|[0.08696,0.0,0.02...|[9.07853535353535...|[0.90785353535353...|       0.0|\n",
      "|    1|[0.06615,0.01167,...|[9.03256503547663...|[0.90325650354766...|       0.0|\n",
      "|    0|[0.11343,0.00597,...|[6.62219065656565...|[0.66221906565656...|       0.0|\n",
      "|    0|[0.04144,0.01243,...|[7.97007617629659...|[0.79700761762965...|       0.0|\n",
      "|    0|[0.07968,0.01149,...|[8.03256503547663...|[0.80325650354766...|       0.0|\n",
      "|    0|[0.05353,0.00797,...|[9.27987187487905...|[0.92798718748790...|       0.0|\n",
      "|    1|[0.02115,0.02115,...|[2.74215686274509...|[0.27421568627450...|       1.0|\n",
      "+-----+--------------------+--------------------+--------------------+----------+\n",
      "only showing top 20 rows\n",
      "\n"
     ]
    }
   ],
   "source": [
    "rf_results.show()"
   ]
  },
  {
   "cell_type": "markdown",
   "metadata": {},
   "source": [
    "### Gradient Boosted Trees"
   ]
  },
  {
   "cell_type": "code",
   "execution_count": 126,
   "metadata": {},
   "outputs": [],
   "source": [
    "#instantiate model\n",
    "gbt = GBTClassifier(maxIter=15, maxDepth=4)\n",
    "\n",
    "#fit model to training data\n",
    "gbt = gbt.fit(train)"
   ]
  },
  {
   "cell_type": "code",
   "execution_count": 127,
   "metadata": {},
   "outputs": [
    {
     "name": "stdout",
     "output_type": "stream",
     "text": [
      "Accuracy: 0.6388888888888888\n",
      "Area Under ROC: 0.6588628762541806\n"
     ]
    }
   ],
   "source": [
    "#perform predictions on validation set\n",
    "gbt_results = gbt.transform(validation)\n",
    "\n",
    "evaluate_model(gbt_results)"
   ]
  },
  {
   "cell_type": "code",
   "execution_count": null,
   "metadata": {},
   "outputs": [],
   "source": []
  },
  {
   "cell_type": "code",
   "execution_count": null,
   "metadata": {},
   "outputs": [],
   "source": []
  },
  {
   "cell_type": "markdown",
   "metadata": {},
   "source": [
    "With arbitrary hyper parameters and zero tuning, it appears the Logistic Regression model returns the best accuracy. However, all the accuracies are below the benchmark of 0.77 (if the model were to predict a label 0 for all users).\n",
    "\n",
    "Cross validation and hyper parameter refinement will be needed."
   ]
  },
  {
   "cell_type": "markdown",
   "metadata": {},
   "source": [
    "## Refinement with Cross Validation\n",
    "\n",
    "Optimizing for f1 score"
   ]
  },
  {
   "cell_type": "markdown",
   "metadata": {},
   "source": [
    "### Logistic Regression"
   ]
  },
  {
   "cell_type": "markdown",
   "metadata": {},
   "source": [
    "#### Validation Results"
   ]
  },
  {
   "cell_type": "code",
   "execution_count": 108,
   "metadata": {},
   "outputs": [
    {
     "name": "stdout",
     "output_type": "stream",
     "text": [
      "Accuracy: 0.6388888888888888\n",
      "Area Under ROC: 0.7123745819397993\n"
     ]
    }
   ],
   "source": [
    "#instantiate random forest classifier\n",
    "lr = LogisticRegression()\n",
    "\n",
    "#build paramgrid\n",
    "paramGrid = (ParamGridBuilder().addGrid(lr.maxIter, [10, 20, 30]).addGrid(lr.regParam, [0.01, 0.02, 0.03]).build())\n",
    "\n",
    "##Cross validate on training model and display results of trained model when used to predict on the validation dataset\n",
    "cvpredictions, cvModel = cross_validation(lr, paramGrid)\n",
    "\n",
    "#store best model\n",
    "lr_best_model = cvModel.bestModel\n",
    "\n",
    "#evaluates optimized model's accuracy on the validation\n",
    "evaluate_model(cvpredictions)"
   ]
  },
  {
   "cell_type": "code",
   "execution_count": 109,
   "metadata": {},
   "outputs": [
    {
     "name": "stdout",
     "output_type": "stream",
     "text": [
      "Average f1 for each paramMap\n"
     ]
    },
    {
     "data": {
      "text/plain": [
       "[0.740988579675596,\n",
       " 0.7246296083177839,\n",
       " 0.7246296083177839,\n",
       " 0.7526313326372404,\n",
       " 0.736794320386924,\n",
       " 0.736794320386924,\n",
       " 0.7526313326372404,\n",
       " 0.736794320386924,\n",
       " 0.736794320386924]"
      ]
     },
     "execution_count": 109,
     "metadata": {},
     "output_type": "execute_result"
    }
   ],
   "source": [
    "print ('Average f1 for each paramMap')\n",
    "cvModel.avgMetrics"
   ]
  },
  {
   "cell_type": "markdown",
   "metadata": {},
   "source": [
    "#### Test Set Results"
   ]
  },
  {
   "cell_type": "code",
   "execution_count": 110,
   "metadata": {},
   "outputs": [
    {
     "name": "stdout",
     "output_type": "stream",
     "text": [
      "Accuracy: 0.7962962962962963\n",
      "Area Under ROC: 0.7283950617283953\n"
     ]
    }
   ],
   "source": [
    "#predict on test set with best model\n",
    "test_predictions = lr_best_model.transform(test)\n",
    "evaluate_model(test_predictions)"
   ]
  },
  {
   "cell_type": "code",
   "execution_count": 111,
   "metadata": {},
   "outputs": [
    {
     "name": "stdout",
     "output_type": "stream",
     "text": [
      "+-----+--------------------+--------------------+--------------------+----------+\n",
      "|label|            features|       rawPrediction|         probability|prediction|\n",
      "+-----+--------------------+--------------------+--------------------+----------+\n",
      "|    0|[0.0531,0.01051,0...|[1.59021158528745...|[0.83064586955083...|       0.0|\n",
      "|    0|[0.05253,0.00805,...|[1.86596598850006...|[0.86599081831990...|       0.0|\n",
      "|    1|(5,[0,2],[0.05882...|[1.05296637724215...|[0.74134411806341...|       0.0|\n",
      "|    0|[0.0316,0.00948,0...|[1.54293616883319...|[0.82389115245793...|       0.0|\n",
      "|    0|[0.07073,0.00366,...|[1.86849244715931...|[0.86628374465537...|       0.0|\n",
      "|    0|[0.05296,0.01382,...|[1.48578579545490...|[0.81544490082297...|       0.0|\n",
      "|    0|[0.08343,0.00771,...|[1.69329760846052...|[0.84465733536995...|       0.0|\n",
      "|    0|[0.06132,0.00943,...|[1.94040538855250...|[0.87439667290433...|       0.0|\n",
      "|    0|[0.03636,0.00909,...|[1.89607547809727...|[0.86944670207453...|       0.0|\n",
      "|    0|[0.05756,0.03748,...|[-0.6060468564165...|[0.35296148992711...|       1.0|\n",
      "+-----+--------------------+--------------------+--------------------+----------+\n",
      "only showing top 10 rows\n",
      "\n"
     ]
    }
   ],
   "source": [
    "test_predictions.show(10)"
   ]
  },
  {
   "cell_type": "markdown",
   "metadata": {},
   "source": [
    "### Random Forest"
   ]
  },
  {
   "cell_type": "markdown",
   "metadata": {},
   "source": [
    "#### Validation Results"
   ]
  },
  {
   "cell_type": "code",
   "execution_count": 112,
   "metadata": {},
   "outputs": [
    {
     "name": "stdout",
     "output_type": "stream",
     "text": [
      "Accuracy: 0.6388888888888888\n",
      "Area Under ROC: 0.6538461538461539\n"
     ]
    }
   ],
   "source": [
    "#instantiate random forest classifier\n",
    "rf = RandomForestClassifier(featuresCol='features', labelCol='label')\n",
    "\n",
    "#build paramgrid\n",
    "paramGrid = (ParamGridBuilder().addGrid(rf.maxDepth, [3, 4]).addGrid(rf.numTrees, [10, 15, 20]).build())\n",
    "\n",
    "##Cross validate on training model and display results of trained model when used to predict on the validation dataset\n",
    "cvpredictions, cvModel = cross_validation(rf, paramGrid)\n",
    "\n",
    "#store best model\n",
    "rf_best_model = cvModel.bestModel\n",
    "\n",
    "#evaluates optimized model's accuracy on the validation\n",
    "evaluate_model(cvpredictions)"
   ]
  },
  {
   "cell_type": "code",
   "execution_count": 113,
   "metadata": {},
   "outputs": [
    {
     "name": "stdout",
     "output_type": "stream",
     "text": [
      "Average f1 for each paramMap\n"
     ]
    },
    {
     "data": {
      "text/plain": [
       "[0.729951589835254,\n",
       " 0.7231498638648688,\n",
       " 0.7096338632452995,\n",
       " 0.7199274896709917,\n",
       " 0.7243644858767371,\n",
       " 0.705657255058165]"
      ]
     },
     "execution_count": 113,
     "metadata": {},
     "output_type": "execute_result"
    }
   ],
   "source": [
    "print ('Average f1 for each paramMap')\n",
    "cvModel.avgMetrics"
   ]
  },
  {
   "cell_type": "markdown",
   "metadata": {},
   "source": [
    "The best hyper parameters: maxDepth = 4, numTrees = 10"
   ]
  },
  {
   "cell_type": "markdown",
   "metadata": {},
   "source": [
    "#### Test Results"
   ]
  },
  {
   "cell_type": "code",
   "execution_count": 114,
   "metadata": {},
   "outputs": [
    {
     "name": "stdout",
     "output_type": "stream",
     "text": [
      "Accuracy: 0.8148148148148148\n",
      "Area Under ROC: 0.6814814814814814\n"
     ]
    }
   ],
   "source": [
    "#predict on test set\n",
    "test_predictions = rf_best_model.transform(test)\n",
    "evaluate_model(test_predictions)"
   ]
  },
  {
   "cell_type": "code",
   "execution_count": 115,
   "metadata": {},
   "outputs": [
    {
     "name": "stdout",
     "output_type": "stream",
     "text": [
      "+-----+--------------------+--------------------+--------------------+----------+\n",
      "|label|            features|       rawPrediction|         probability|prediction|\n",
      "+-----+--------------------+--------------------+--------------------+----------+\n",
      "|    0|[0.0531,0.01051,0...|[8.60999549435698...|[0.86099954943569...|       0.0|\n",
      "|    0|[0.05253,0.00805,...|[8.98183481036276...|[0.89818348103627...|       0.0|\n",
      "|    1|(5,[0,2],[0.05882...|[7.55122166584631...|[0.75512216658463...|       0.0|\n",
      "|    0|[0.0316,0.00948,0...|[7.67813371571804...|[0.76781337157180...|       0.0|\n",
      "|    0|[0.07073,0.00366,...|[8.97486963623341...|[0.89748696362334...|       0.0|\n",
      "|    0|[0.05296,0.01382,...|[8.50736555208166...|[0.85073655520816...|       0.0|\n",
      "|    0|[0.08343,0.00771,...|[8.43375788728584...|[0.84337578872858...|       0.0|\n",
      "|    0|[0.06132,0.00943,...|[8.97486963623341...|[0.89748696362334...|       0.0|\n",
      "|    0|[0.03636,0.00909,...|[8.67813371571804...|[0.86781337157180...|       0.0|\n",
      "|    0|[0.05756,0.03748,...|[1.62280701754385...|[0.16228070175438...|       1.0|\n",
      "+-----+--------------------+--------------------+--------------------+----------+\n",
      "only showing top 10 rows\n",
      "\n"
     ]
    }
   ],
   "source": [
    "test_predictions.show(10)"
   ]
  },
  {
   "cell_type": "markdown",
   "metadata": {},
   "source": [
    "### Gradient Boosted Trees"
   ]
  },
  {
   "cell_type": "markdown",
   "metadata": {},
   "source": [
    "#### Validation Results"
   ]
  },
  {
   "cell_type": "code",
   "execution_count": 116,
   "metadata": {},
   "outputs": [
    {
     "name": "stdout",
     "output_type": "stream",
     "text": [
      "Accuracy: 0.6388888888888888\n",
      "Area Under ROC: 0.6672240802675585\n"
     ]
    }
   ],
   "source": [
    "#instantiate gbt classifier\n",
    "gbt = GBTClassifier()\n",
    "\n",
    "#build param grid\n",
    "paramGrid = (ParamGridBuilder().addGrid(gbt.maxDepth, [4, 5]).addGrid(gbt.maxIter, [10, 20]).build())\n",
    "\n",
    "#perform cross validation using f1 evaluator metric\n",
    "cvpredictions, cvModel = cross_validation(gbt, paramGrid)\n",
    "\n",
    "#store best model\n",
    "gbt_best_model = cvModel.bestModel\n",
    "\n",
    "#evaluates optimized model's accuracy on the validation\n",
    "evaluate_model(cvpredictions)"
   ]
  },
  {
   "cell_type": "code",
   "execution_count": 117,
   "metadata": {},
   "outputs": [
    {
     "name": "stdout",
     "output_type": "stream",
     "text": [
      "Average f1 for each paramMap\n"
     ]
    },
    {
     "data": {
      "text/plain": [
       "[0.7030956041200375, 0.704024479095462, 0.7019973364022611, 0.6934895532567968]"
      ]
     },
     "execution_count": 117,
     "metadata": {},
     "output_type": "execute_result"
    }
   ],
   "source": [
    "print ('Average f1 for each paramMap')\n",
    "cvModel.avgMetrics"
   ]
  },
  {
   "cell_type": "markdown",
   "metadata": {},
   "source": [
    "#### Test Set Results"
   ]
  },
  {
   "cell_type": "code",
   "execution_count": 118,
   "metadata": {},
   "outputs": [
    {
     "name": "stdout",
     "output_type": "stream",
     "text": [
      "Accuracy: 0.7037037037037037\n",
      "Area Under ROC: 0.5679012345679014\n"
     ]
    }
   ],
   "source": [
    "#predict on test set\n",
    "test_predictions = gbt_best_model.transform(test)\n",
    "evaluate_model(test_predictions)"
   ]
  },
  {
   "cell_type": "code",
   "execution_count": 119,
   "metadata": {},
   "outputs": [
    {
     "name": "stdout",
     "output_type": "stream",
     "text": [
      "+-----+--------------------+--------------------+--------------------+----------+\n",
      "|label|            features|       rawPrediction|         probability|prediction|\n",
      "+-----+--------------------+--------------------+--------------------+----------+\n",
      "|    0|[0.0531,0.01051,0...|[1.30985553778514...|[0.93211942764750...|       0.0|\n",
      "|    0|[0.05253,0.00805,...|[0.77044480878893...|[0.82359401222448...|       0.0|\n",
      "|    1|(5,[0,2],[0.05882...|[1.71596176902962...|[0.96868746525303...|       0.0|\n",
      "|    0|[0.0316,0.00948,0...|[-0.4313858124450...|[0.29676059923517...|       1.0|\n",
      "|    0|[0.07073,0.00366,...|[1.42840202427036...|[0.94566932889951...|       0.0|\n",
      "|    0|[0.05296,0.01382,...|[1.05767346052155...|[0.89238589411642...|       0.0|\n",
      "|    0|[0.08343,0.00771,...|[1.11420452584733...|[0.90277180318085...|       0.0|\n",
      "|    0|[0.06132,0.00943,...|[1.15447410005878...|[0.90961541859787...|       0.0|\n",
      "|    0|[0.03636,0.00909,...|[0.96712445747112...|[0.87371896511770...|       0.0|\n",
      "|    0|[0.05756,0.03748,...|[-1.6583823817369...|[0.03500051596325...|       1.0|\n",
      "+-----+--------------------+--------------------+--------------------+----------+\n",
      "only showing top 10 rows\n",
      "\n"
     ]
    }
   ],
   "source": [
    "test_predictions.show(10)"
   ]
  },
  {
   "cell_type": "markdown",
   "metadata": {},
   "source": [
    "## Conclusion"
   ]
  },
  {
   "cell_type": "markdown",
   "metadata": {},
   "source": [
    "#### GBT Classifier\n",
    "\n",
    "```Validation accuracy```: 0.6388\n",
    "\n",
    "```Cross Validation Best F1 Score```: 0.7040\n",
    "\n",
    "```Best Parameters```: maxDepth: 5, maxIter: 10\n",
    "\n",
    "```Test accuracy```: 0.7037\n",
    "\n",
    "GBT classifier has underperformed compared to teh simpler models used. THis may be an issue with the amount of data in the sample being used to train."
   ]
  },
  {
   "cell_type": "markdown",
   "metadata": {},
   "source": [
    "#### Logistic Regression Classifier\n",
    "\n",
    "```Validation accuracy```: 0.6388\n",
    "\n",
    "```Cross Validaiton Best F1 Score```: 0.7526\n",
    "\n",
    "```Best Parameters```: maxIter: 10, regParam: 0.01\n",
    "\n",
    "```Test set accuracy```: 0.7962\n",
    "\n",
    "Cross Validation only slightly improved accuracy on the validation dataset."
   ]
  },
  {
   "cell_type": "markdown",
   "metadata": {},
   "source": [
    "#### Random Forest Classifier\n",
    "\n",
    "```Validation accuracy```: 0.6388\n",
    "\n",
    "```Cross Validation Best F1 Score```: 0.7299\n",
    "\n",
    "```Best Parameters```: maxDepth: 3, numTrees: 10\n",
    "\n",
    "```Test accuracy```: 0.8148\n",
    "\n",
    "Cross Validation did not improve validaiton set accuracy. "
   ]
  },
  {
   "cell_type": "markdown",
   "metadata": {},
   "source": [
    "# Final Steps\n",
    "Clean up your code, adding comments and renaming variables to make the code easier to read and maintain. Refer to the Spark Project Overview page and Data Scientist Capstone Project Rubric to make sure you are including all components of the capstone project and meet all expectations. Remember, this includes thorough documentation in a README file in a Github repository, as well as a web app or blog post."
   ]
  },
  {
   "cell_type": "code",
   "execution_count": null,
   "metadata": {},
   "outputs": [],
   "source": []
  }
 ],
 "metadata": {
  "kernelspec": {
   "display_name": "Python 3",
   "language": "python",
   "name": "python3"
  },
  "language_info": {
   "codemirror_mode": {
    "name": "ipython",
    "version": 3
   },
   "file_extension": ".py",
   "mimetype": "text/x-python",
   "name": "python",
   "nbconvert_exporter": "python",
   "pygments_lexer": "ipython3",
   "version": "3.6.3"
  }
 },
 "nbformat": 4,
 "nbformat_minor": 2
}
